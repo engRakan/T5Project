{
 "cells": [
  {
   "cell_type": "code",
   "execution_count": 1,
   "id": "a13830a1",
   "metadata": {},
   "outputs": [],
   "source": [
    "import pandas as pd\n",
    "import numpy as np\n",
    "import matplotlib.pyplot as plt\n",
    "import seaborn as sns\n",
    "import datetime\n",
    "import warnings\n",
    "warnings.filterwarnings(\"ignore\")\n",
    "\n",
    "from sklearn.model_selection import train_test_split\n",
    "from sklearn import preprocessing\n",
    "from sklearn.linear_model import LinearRegression\n",
    "from sklearn.preprocessing import PolynomialFeatures\n",
    "from xgboost import XGBRegressor"
   ]
  },
  {
   "cell_type": "markdown",
   "id": "e9a461fb",
   "metadata": {},
   "source": [
    "# Loading Data"
   ]
  },
  {
   "cell_type": "code",
   "execution_count": 2,
   "id": "61fc7c83",
   "metadata": {},
   "outputs": [],
   "source": [
    "df = pd.read_csv('real_state.csv')"
   ]
  },
  {
   "cell_type": "markdown",
   "id": "59d98672",
   "metadata": {},
   "source": [
    "# EDA"
   ]
  },
  {
   "cell_type": "code",
   "execution_count": 3,
   "id": "c481eb42",
   "metadata": {},
   "outputs": [
    {
     "data": {
      "text/html": [
       "<div>\n",
       "<style scoped>\n",
       "    .dataframe tbody tr th:only-of-type {\n",
       "        vertical-align: middle;\n",
       "    }\n",
       "\n",
       "    .dataframe tbody tr th {\n",
       "        vertical-align: top;\n",
       "    }\n",
       "\n",
       "    .dataframe thead th {\n",
       "        text-align: right;\n",
       "    }\n",
       "</style>\n",
       "<table border=\"1\" class=\"dataframe\">\n",
       "  <thead>\n",
       "    <tr style=\"text-align: right;\">\n",
       "      <th></th>\n",
       "      <th>Unnamed: 0</th>\n",
       "      <th>price</th>\n",
       "      <th>date</th>\n",
       "      <th>time</th>\n",
       "      <th>geo_lat</th>\n",
       "      <th>geo_lon</th>\n",
       "      <th>region</th>\n",
       "      <th>building_type</th>\n",
       "      <th>level</th>\n",
       "      <th>levels</th>\n",
       "      <th>rooms</th>\n",
       "      <th>area</th>\n",
       "      <th>kitchen_area</th>\n",
       "      <th>object_type</th>\n",
       "    </tr>\n",
       "  </thead>\n",
       "  <tbody>\n",
       "    <tr>\n",
       "      <th>0</th>\n",
       "      <td>0</td>\n",
       "      <td>6050000</td>\n",
       "      <td>2018-02-19</td>\n",
       "      <td>20:00:21</td>\n",
       "      <td>59.805808</td>\n",
       "      <td>30.376141</td>\n",
       "      <td>2661</td>\n",
       "      <td>1</td>\n",
       "      <td>8</td>\n",
       "      <td>10</td>\n",
       "      <td>3</td>\n",
       "      <td>82.6</td>\n",
       "      <td>10.8</td>\n",
       "      <td>1</td>\n",
       "    </tr>\n",
       "    <tr>\n",
       "      <th>1</th>\n",
       "      <td>1</td>\n",
       "      <td>8650000</td>\n",
       "      <td>2018-02-27</td>\n",
       "      <td>12:04:54</td>\n",
       "      <td>55.683807</td>\n",
       "      <td>37.297405</td>\n",
       "      <td>81</td>\n",
       "      <td>3</td>\n",
       "      <td>5</td>\n",
       "      <td>24</td>\n",
       "      <td>2</td>\n",
       "      <td>69.1</td>\n",
       "      <td>12.0</td>\n",
       "      <td>1</td>\n",
       "    </tr>\n",
       "    <tr>\n",
       "      <th>2</th>\n",
       "      <td>2</td>\n",
       "      <td>4000000</td>\n",
       "      <td>2018-02-28</td>\n",
       "      <td>15:44:00</td>\n",
       "      <td>56.295250</td>\n",
       "      <td>44.061637</td>\n",
       "      <td>2871</td>\n",
       "      <td>1</td>\n",
       "      <td>5</td>\n",
       "      <td>9</td>\n",
       "      <td>3</td>\n",
       "      <td>66.0</td>\n",
       "      <td>10.0</td>\n",
       "      <td>1</td>\n",
       "    </tr>\n",
       "    <tr>\n",
       "      <th>3</th>\n",
       "      <td>3</td>\n",
       "      <td>1850000</td>\n",
       "      <td>2018-03-01</td>\n",
       "      <td>11:24:52</td>\n",
       "      <td>44.996132</td>\n",
       "      <td>39.074783</td>\n",
       "      <td>2843</td>\n",
       "      <td>4</td>\n",
       "      <td>12</td>\n",
       "      <td>16</td>\n",
       "      <td>2</td>\n",
       "      <td>38.0</td>\n",
       "      <td>5.0</td>\n",
       "      <td>11</td>\n",
       "    </tr>\n",
       "    <tr>\n",
       "      <th>4</th>\n",
       "      <td>4</td>\n",
       "      <td>5450000</td>\n",
       "      <td>2018-03-01</td>\n",
       "      <td>17:42:43</td>\n",
       "      <td>55.918767</td>\n",
       "      <td>37.984642</td>\n",
       "      <td>81</td>\n",
       "      <td>3</td>\n",
       "      <td>13</td>\n",
       "      <td>14</td>\n",
       "      <td>2</td>\n",
       "      <td>60.0</td>\n",
       "      <td>10.0</td>\n",
       "      <td>1</td>\n",
       "    </tr>\n",
       "    <tr>\n",
       "      <th>5</th>\n",
       "      <td>5</td>\n",
       "      <td>3300000</td>\n",
       "      <td>2018-03-02</td>\n",
       "      <td>21:18:42</td>\n",
       "      <td>55.908253</td>\n",
       "      <td>37.726448</td>\n",
       "      <td>81</td>\n",
       "      <td>1</td>\n",
       "      <td>4</td>\n",
       "      <td>5</td>\n",
       "      <td>1</td>\n",
       "      <td>32.0</td>\n",
       "      <td>6.0</td>\n",
       "      <td>1</td>\n",
       "    </tr>\n",
       "    <tr>\n",
       "      <th>6</th>\n",
       "      <td>6</td>\n",
       "      <td>4704280</td>\n",
       "      <td>2018-03-04</td>\n",
       "      <td>12:35:25</td>\n",
       "      <td>55.621097</td>\n",
       "      <td>37.431002</td>\n",
       "      <td>3</td>\n",
       "      <td>2</td>\n",
       "      <td>1</td>\n",
       "      <td>25</td>\n",
       "      <td>1</td>\n",
       "      <td>31.7</td>\n",
       "      <td>6.0</td>\n",
       "      <td>11</td>\n",
       "    </tr>\n",
       "    <tr>\n",
       "      <th>7</th>\n",
       "      <td>7</td>\n",
       "      <td>3600000</td>\n",
       "      <td>2018-03-04</td>\n",
       "      <td>20:52:38</td>\n",
       "      <td>59.875526</td>\n",
       "      <td>30.395457</td>\n",
       "      <td>2661</td>\n",
       "      <td>1</td>\n",
       "      <td>2</td>\n",
       "      <td>5</td>\n",
       "      <td>1</td>\n",
       "      <td>31.1</td>\n",
       "      <td>6.0</td>\n",
       "      <td>1</td>\n",
       "    </tr>\n",
       "    <tr>\n",
       "      <th>8</th>\n",
       "      <td>8</td>\n",
       "      <td>3390000</td>\n",
       "      <td>2018-03-05</td>\n",
       "      <td>07:07:05</td>\n",
       "      <td>53.195031</td>\n",
       "      <td>50.106952</td>\n",
       "      <td>3106</td>\n",
       "      <td>2</td>\n",
       "      <td>4</td>\n",
       "      <td>24</td>\n",
       "      <td>2</td>\n",
       "      <td>64.0</td>\n",
       "      <td>13.0</td>\n",
       "      <td>11</td>\n",
       "    </tr>\n",
       "    <tr>\n",
       "      <th>9</th>\n",
       "      <td>9</td>\n",
       "      <td>2800000</td>\n",
       "      <td>2018-03-06</td>\n",
       "      <td>09:57:10</td>\n",
       "      <td>55.736972</td>\n",
       "      <td>38.846457</td>\n",
       "      <td>81</td>\n",
       "      <td>1</td>\n",
       "      <td>9</td>\n",
       "      <td>10</td>\n",
       "      <td>2</td>\n",
       "      <td>55.0</td>\n",
       "      <td>8.0</td>\n",
       "      <td>1</td>\n",
       "    </tr>\n",
       "  </tbody>\n",
       "</table>\n",
       "</div>"
      ],
      "text/plain": [
       "   Unnamed: 0    price        date      time    geo_lat    geo_lon  region  \\\n",
       "0           0  6050000  2018-02-19  20:00:21  59.805808  30.376141    2661   \n",
       "1           1  8650000  2018-02-27  12:04:54  55.683807  37.297405      81   \n",
       "2           2  4000000  2018-02-28  15:44:00  56.295250  44.061637    2871   \n",
       "3           3  1850000  2018-03-01  11:24:52  44.996132  39.074783    2843   \n",
       "4           4  5450000  2018-03-01  17:42:43  55.918767  37.984642      81   \n",
       "5           5  3300000  2018-03-02  21:18:42  55.908253  37.726448      81   \n",
       "6           6  4704280  2018-03-04  12:35:25  55.621097  37.431002       3   \n",
       "7           7  3600000  2018-03-04  20:52:38  59.875526  30.395457    2661   \n",
       "8           8  3390000  2018-03-05  07:07:05  53.195031  50.106952    3106   \n",
       "9           9  2800000  2018-03-06  09:57:10  55.736972  38.846457      81   \n",
       "\n",
       "   building_type  level  levels  rooms  area  kitchen_area  object_type  \n",
       "0              1      8      10      3  82.6          10.8            1  \n",
       "1              3      5      24      2  69.1          12.0            1  \n",
       "2              1      5       9      3  66.0          10.0            1  \n",
       "3              4     12      16      2  38.0           5.0           11  \n",
       "4              3     13      14      2  60.0          10.0            1  \n",
       "5              1      4       5      1  32.0           6.0            1  \n",
       "6              2      1      25      1  31.7           6.0           11  \n",
       "7              1      2       5      1  31.1           6.0            1  \n",
       "8              2      4      24      2  64.0          13.0           11  \n",
       "9              1      9      10      2  55.0           8.0            1  "
      ]
     },
     "execution_count": 3,
     "metadata": {},
     "output_type": "execute_result"
    }
   ],
   "source": [
    "df.head(10)"
   ]
  },
  {
   "cell_type": "markdown",
   "id": "a189cfcd",
   "metadata": {},
   "source": [
    "View the number of rows and columns"
   ]
  },
  {
   "cell_type": "code",
   "execution_count": 4,
   "id": "7229c28b",
   "metadata": {},
   "outputs": [
    {
     "data": {
      "text/plain": [
       "(500001, 14)"
      ]
     },
     "execution_count": 4,
     "metadata": {},
     "output_type": "execute_result"
    }
   ],
   "source": [
    "df.shape"
   ]
  },
  {
   "cell_type": "code",
   "execution_count": 5,
   "id": "bcb79396",
   "metadata": {},
   "outputs": [
    {
     "name": "stdout",
     "output_type": "stream",
     "text": [
      "<class 'pandas.core.frame.DataFrame'>\n",
      "RangeIndex: 500001 entries, 0 to 500000\n",
      "Data columns (total 14 columns):\n",
      " #   Column         Non-Null Count   Dtype  \n",
      "---  ------         --------------   -----  \n",
      " 0   Unnamed: 0     500001 non-null  int64  \n",
      " 1   price          500001 non-null  int64  \n",
      " 2   date           500001 non-null  object \n",
      " 3   time           500001 non-null  object \n",
      " 4   geo_lat        500001 non-null  float64\n",
      " 5   geo_lon        500001 non-null  float64\n",
      " 6   region         500001 non-null  int64  \n",
      " 7   building_type  500001 non-null  int64  \n",
      " 8   level          500001 non-null  int64  \n",
      " 9   levels         500001 non-null  int64  \n",
      " 10  rooms          500001 non-null  int64  \n",
      " 11  area           500001 non-null  float64\n",
      " 12  kitchen_area   500001 non-null  float64\n",
      " 13  object_type    500001 non-null  int64  \n",
      "dtypes: float64(4), int64(8), object(2)\n",
      "memory usage: 53.4+ MB\n"
     ]
    }
   ],
   "source": [
    "df.info()"
   ]
  },
  {
   "cell_type": "code",
   "execution_count": 6,
   "id": "ef16769d",
   "metadata": {},
   "outputs": [
    {
     "data": {
      "text/plain": [
       "Unnamed: 0       0\n",
       "price            0\n",
       "date             0\n",
       "time             0\n",
       "geo_lat          0\n",
       "geo_lon          0\n",
       "region           0\n",
       "building_type    0\n",
       "level            0\n",
       "levels           0\n",
       "rooms            0\n",
       "area             0\n",
       "kitchen_area     0\n",
       "object_type      0\n",
       "dtype: int64"
      ]
     },
     "execution_count": 6,
     "metadata": {},
     "output_type": "execute_result"
    }
   ],
   "source": [
    "df.isna().sum()"
   ]
  },
  {
   "cell_type": "code",
   "execution_count": 7,
   "id": "e0c2de48",
   "metadata": {},
   "outputs": [
    {
     "data": {
      "text/html": [
       "<div>\n",
       "<style scoped>\n",
       "    .dataframe tbody tr th:only-of-type {\n",
       "        vertical-align: middle;\n",
       "    }\n",
       "\n",
       "    .dataframe tbody tr th {\n",
       "        vertical-align: top;\n",
       "    }\n",
       "\n",
       "    .dataframe thead th {\n",
       "        text-align: right;\n",
       "    }\n",
       "</style>\n",
       "<table border=\"1\" class=\"dataframe\">\n",
       "  <thead>\n",
       "    <tr style=\"text-align: right;\">\n",
       "      <th></th>\n",
       "      <th>count</th>\n",
       "      <th>mean</th>\n",
       "      <th>std</th>\n",
       "      <th>min</th>\n",
       "      <th>25%</th>\n",
       "      <th>50%</th>\n",
       "      <th>75%</th>\n",
       "      <th>max</th>\n",
       "    </tr>\n",
       "  </thead>\n",
       "  <tbody>\n",
       "    <tr>\n",
       "      <th>Unnamed: 0</th>\n",
       "      <td>500001.0</td>\n",
       "      <td>2.500000e+05</td>\n",
       "      <td>1.443380e+05</td>\n",
       "      <td>0.000000e+00</td>\n",
       "      <td>1.250000e+05</td>\n",
       "      <td>2.500000e+05</td>\n",
       "      <td>3.750000e+05</td>\n",
       "      <td>5.000000e+05</td>\n",
       "    </tr>\n",
       "    <tr>\n",
       "      <th>price</th>\n",
       "      <td>500001.0</td>\n",
       "      <td>3.929872e+06</td>\n",
       "      <td>1.664714e+07</td>\n",
       "      <td>-2.114150e+09</td>\n",
       "      <td>1.684200e+06</td>\n",
       "      <td>2.520000e+06</td>\n",
       "      <td>4.158000e+06</td>\n",
       "      <td>1.680000e+09</td>\n",
       "    </tr>\n",
       "    <tr>\n",
       "      <th>geo_lat</th>\n",
       "      <td>500001.0</td>\n",
       "      <td>5.392118e+01</td>\n",
       "      <td>4.663768e+00</td>\n",
       "      <td>4.145909e+01</td>\n",
       "      <td>5.413978e+01</td>\n",
       "      <td>5.505181e+01</td>\n",
       "      <td>5.598188e+01</td>\n",
       "      <td>7.198040e+01</td>\n",
       "    </tr>\n",
       "    <tr>\n",
       "      <th>geo_lon</th>\n",
       "      <td>500001.0</td>\n",
       "      <td>5.485186e+01</td>\n",
       "      <td>2.100943e+01</td>\n",
       "      <td>2.760133e+01</td>\n",
       "      <td>3.795930e+01</td>\n",
       "      <td>4.398563e+01</td>\n",
       "      <td>8.294353e+01</td>\n",
       "      <td>1.562811e+02</td>\n",
       "    </tr>\n",
       "    <tr>\n",
       "      <th>region</th>\n",
       "      <td>500001.0</td>\n",
       "      <td>4.567171e+03</td>\n",
       "      <td>3.528762e+03</td>\n",
       "      <td>3.000000e+00</td>\n",
       "      <td>2.661000e+03</td>\n",
       "      <td>2.922000e+03</td>\n",
       "      <td>9.654000e+03</td>\n",
       "      <td>1.488000e+04</td>\n",
       "    </tr>\n",
       "    <tr>\n",
       "      <th>building_type</th>\n",
       "      <td>500001.0</td>\n",
       "      <td>1.894402e+00</td>\n",
       "      <td>1.053559e+00</td>\n",
       "      <td>0.000000e+00</td>\n",
       "      <td>1.000000e+00</td>\n",
       "      <td>2.000000e+00</td>\n",
       "      <td>3.000000e+00</td>\n",
       "      <td>5.000000e+00</td>\n",
       "    </tr>\n",
       "    <tr>\n",
       "      <th>level</th>\n",
       "      <td>500001.0</td>\n",
       "      <td>6.022350e+00</td>\n",
       "      <td>4.774487e+00</td>\n",
       "      <td>1.000000e+00</td>\n",
       "      <td>2.000000e+00</td>\n",
       "      <td>5.000000e+00</td>\n",
       "      <td>8.000000e+00</td>\n",
       "      <td>3.900000e+01</td>\n",
       "    </tr>\n",
       "    <tr>\n",
       "      <th>levels</th>\n",
       "      <td>500001.0</td>\n",
       "      <td>1.102669e+01</td>\n",
       "      <td>6.220420e+00</td>\n",
       "      <td>1.000000e+00</td>\n",
       "      <td>5.000000e+00</td>\n",
       "      <td>1.000000e+01</td>\n",
       "      <td>1.600000e+01</td>\n",
       "      <td>3.900000e+01</td>\n",
       "    </tr>\n",
       "    <tr>\n",
       "      <th>rooms</th>\n",
       "      <td>500001.0</td>\n",
       "      <td>1.807642e+00</td>\n",
       "      <td>9.313283e-01</td>\n",
       "      <td>-2.000000e+00</td>\n",
       "      <td>1.000000e+00</td>\n",
       "      <td>2.000000e+00</td>\n",
       "      <td>2.000000e+00</td>\n",
       "      <td>9.000000e+00</td>\n",
       "    </tr>\n",
       "    <tr>\n",
       "      <th>area</th>\n",
       "      <td>500001.0</td>\n",
       "      <td>5.384137e+01</td>\n",
       "      <td>2.784248e+01</td>\n",
       "      <td>5.000000e+00</td>\n",
       "      <td>3.900000e+01</td>\n",
       "      <td>4.802000e+01</td>\n",
       "      <td>6.300000e+01</td>\n",
       "      <td>4.444000e+03</td>\n",
       "    </tr>\n",
       "    <tr>\n",
       "      <th>kitchen_area</th>\n",
       "      <td>500001.0</td>\n",
       "      <td>1.043968e+01</td>\n",
       "      <td>7.860873e+00</td>\n",
       "      <td>4.000000e-02</td>\n",
       "      <td>7.000000e+00</td>\n",
       "      <td>9.300000e+00</td>\n",
       "      <td>1.205000e+01</td>\n",
       "      <td>1.958000e+03</td>\n",
       "    </tr>\n",
       "    <tr>\n",
       "      <th>object_type</th>\n",
       "      <td>500001.0</td>\n",
       "      <td>3.978674e+00</td>\n",
       "      <td>4.573214e+00</td>\n",
       "      <td>1.000000e+00</td>\n",
       "      <td>1.000000e+00</td>\n",
       "      <td>1.000000e+00</td>\n",
       "      <td>1.100000e+01</td>\n",
       "      <td>1.100000e+01</td>\n",
       "    </tr>\n",
       "  </tbody>\n",
       "</table>\n",
       "</div>"
      ],
      "text/plain": [
       "                  count          mean           std           min  \\\n",
       "Unnamed: 0     500001.0  2.500000e+05  1.443380e+05  0.000000e+00   \n",
       "price          500001.0  3.929872e+06  1.664714e+07 -2.114150e+09   \n",
       "geo_lat        500001.0  5.392118e+01  4.663768e+00  4.145909e+01   \n",
       "geo_lon        500001.0  5.485186e+01  2.100943e+01  2.760133e+01   \n",
       "region         500001.0  4.567171e+03  3.528762e+03  3.000000e+00   \n",
       "building_type  500001.0  1.894402e+00  1.053559e+00  0.000000e+00   \n",
       "level          500001.0  6.022350e+00  4.774487e+00  1.000000e+00   \n",
       "levels         500001.0  1.102669e+01  6.220420e+00  1.000000e+00   \n",
       "rooms          500001.0  1.807642e+00  9.313283e-01 -2.000000e+00   \n",
       "area           500001.0  5.384137e+01  2.784248e+01  5.000000e+00   \n",
       "kitchen_area   500001.0  1.043968e+01  7.860873e+00  4.000000e-02   \n",
       "object_type    500001.0  3.978674e+00  4.573214e+00  1.000000e+00   \n",
       "\n",
       "                        25%           50%           75%           max  \n",
       "Unnamed: 0     1.250000e+05  2.500000e+05  3.750000e+05  5.000000e+05  \n",
       "price          1.684200e+06  2.520000e+06  4.158000e+06  1.680000e+09  \n",
       "geo_lat        5.413978e+01  5.505181e+01  5.598188e+01  7.198040e+01  \n",
       "geo_lon        3.795930e+01  4.398563e+01  8.294353e+01  1.562811e+02  \n",
       "region         2.661000e+03  2.922000e+03  9.654000e+03  1.488000e+04  \n",
       "building_type  1.000000e+00  2.000000e+00  3.000000e+00  5.000000e+00  \n",
       "level          2.000000e+00  5.000000e+00  8.000000e+00  3.900000e+01  \n",
       "levels         5.000000e+00  1.000000e+01  1.600000e+01  3.900000e+01  \n",
       "rooms          1.000000e+00  2.000000e+00  2.000000e+00  9.000000e+00  \n",
       "area           3.900000e+01  4.802000e+01  6.300000e+01  4.444000e+03  \n",
       "kitchen_area   7.000000e+00  9.300000e+00  1.205000e+01  1.958000e+03  \n",
       "object_type    1.000000e+00  1.000000e+00  1.100000e+01  1.100000e+01  "
      ]
     },
     "execution_count": 7,
     "metadata": {},
     "output_type": "execute_result"
    }
   ],
   "source": [
    "df.describe().transpose()"
   ]
  },
  {
   "cell_type": "code",
   "execution_count": 8,
   "id": "520d6ff6",
   "metadata": {},
   "outputs": [
    {
     "name": "stdout",
     "output_type": "stream",
     "text": [
      "Unnamed: 0\n",
      "0         1\n",
      "333344    1\n",
      "333342    1\n",
      "333341    1\n",
      "333340    1\n",
      "         ..\n",
      "166663    1\n",
      "166662    1\n",
      "166661    1\n",
      "166660    1\n",
      "500000    1\n",
      "Name: Unnamed: 0, Length: 500001, dtype: int64\n",
      "****************************************************************************************************\n",
      "price\n",
      "1650000     7075\n",
      "1700000     6781\n",
      "1750000     6509\n",
      "2500000     6176\n",
      "2200000     6108\n",
      "            ... \n",
      "3962700        1\n",
      "11776050       1\n",
      "1968600        1\n",
      "5958150        1\n",
      "1181000        1\n",
      "Name: price, Length: 45868, dtype: int64\n",
      "****************************************************************************************************\n",
      "date\n",
      "2018-09-18    21696\n",
      "2018-10-10    10884\n",
      "2018-11-15    10362\n",
      "2018-10-29     9949\n",
      "2018-09-28     9869\n",
      "              ...  \n",
      "2018-05-31        1\n",
      "2018-05-30        1\n",
      "2018-05-28        1\n",
      "2018-05-24        1\n",
      "2018-02-19        1\n",
      "Name: date, Length: 179, dtype: int64\n",
      "****************************************************************************************************\n",
      "time\n",
      "12:40:08    33\n",
      "15:05:51    32\n",
      "06:32:22    32\n",
      "06:32:23    32\n",
      "10:31:57    29\n",
      "            ..\n",
      "00:58:59     1\n",
      "00:59:10     1\n",
      "01:02:45     1\n",
      "03:30:33     1\n",
      "00:12:26     1\n",
      "Name: time, Length: 82892, dtype: int64\n",
      "****************************************************************************************************\n",
      "geo_lat\n",
      "55.030393    11102\n",
      "55.017756     4565\n",
      "54.947141     4374\n",
      "55.013916     2980\n",
      "55.017672     2511\n",
      "             ...  \n",
      "59.841551        1\n",
      "57.502512        1\n",
      "51.316144        1\n",
      "55.095193        1\n",
      "55.237697        1\n",
      "Name: geo_lat, Length: 135711, dtype: int64\n",
      "****************************************************************************************************\n",
      "geo_lon\n",
      "83.015545    11102\n",
      "83.003578     4566\n",
      "82.958596     4374\n",
      "83.003290     2985\n",
      "83.003522     2511\n",
      "             ...  \n",
      "55.951675        1\n",
      "37.610176        1\n",
      "37.949283        1\n",
      "34.237605        1\n",
      "61.369606        1\n",
      "Name: geo_lon, Length: 135959, dtype: int64\n",
      "****************************************************************************************************\n",
      "region\n",
      "9654     126319\n",
      "2843      64643\n",
      "81        54078\n",
      "2661      39783\n",
      "3         34672\n",
      "          ...  \n",
      "2806          1\n",
      "14368         1\n",
      "5736          1\n",
      "7121          1\n",
      "4240          1\n",
      "Name: region, Length: 69, dtype: int64\n",
      "****************************************************************************************************\n",
      "building_type\n",
      "1    199208\n",
      "3    163118\n",
      "2     91283\n",
      "0     28007\n",
      "4     15850\n",
      "5      2535\n",
      "Name: building_type, dtype: int64\n",
      "****************************************************************************************************\n",
      "level\n",
      "2     65541\n",
      "1     64842\n",
      "3     56818\n",
      "4     52265\n",
      "5     51122\n",
      "6     29796\n",
      "7     29419\n",
      "8     28241\n",
      "9     27826\n",
      "10    22574\n",
      "11    10116\n",
      "12     9769\n",
      "13     8322\n",
      "14     8165\n",
      "15     7409\n",
      "16     6603\n",
      "17     5015\n",
      "18     3541\n",
      "19     2598\n",
      "20     2067\n",
      "21     1824\n",
      "22     1640\n",
      "23     1372\n",
      "24     1181\n",
      "25     1016\n",
      "26      336\n",
      "27      120\n",
      "30       91\n",
      "31       84\n",
      "28       78\n",
      "29       76\n",
      "32       58\n",
      "33       36\n",
      "34       17\n",
      "37        7\n",
      "36        7\n",
      "35        5\n",
      "39        2\n",
      "38        2\n",
      "Name: level, dtype: int64\n",
      "****************************************************************************************************\n",
      "levels\n",
      "10    107661\n",
      "5      92914\n",
      "9      62772\n",
      "17     28723\n",
      "16     26014\n",
      "25     17601\n",
      "18     16133\n",
      "4      15495\n",
      "3      14814\n",
      "12     13448\n",
      "14     12383\n",
      "2      10939\n",
      "6      10043\n",
      "19      9132\n",
      "24      7430\n",
      "15      6462\n",
      "7       5882\n",
      "22      5789\n",
      "8       5591\n",
      "20      5115\n",
      "23      5038\n",
      "11      4496\n",
      "13      3994\n",
      "21      2940\n",
      "26      2880\n",
      "1       2103\n",
      "27      1270\n",
      "33      1167\n",
      "31       467\n",
      "32       285\n",
      "30       267\n",
      "28       250\n",
      "29       145\n",
      "37       114\n",
      "35        92\n",
      "39        65\n",
      "34        32\n",
      "36        30\n",
      "38        25\n",
      "Name: levels, dtype: int64\n",
      "****************************************************************************************************\n",
      "rooms\n",
      " 1    211912\n",
      " 2    163567\n",
      " 3    102700\n",
      " 4     12825\n",
      "-1      6671\n",
      " 5      1940\n",
      " 6       213\n",
      " 7        71\n",
      " 8        37\n",
      " 9        37\n",
      "-2        28\n",
      "Name: rooms, dtype: int64\n",
      "****************************************************************************************************\n",
      "area\n",
      "44.00     9455\n",
      "43.00     9436\n",
      "42.00     9384\n",
      "40.00     9333\n",
      "45.00     9114\n",
      "          ... \n",
      "710.00       1\n",
      "83.19        1\n",
      "169.63       1\n",
      "202.10       1\n",
      "98.25        1\n",
      "Name: area, Length: 6222, dtype: int64\n",
      "****************************************************************************************************\n",
      "kitchen_area\n",
      "6.00     50550\n",
      "9.00     41344\n",
      "10.00    34758\n",
      "8.00     30697\n",
      "5.00     28727\n",
      "         ...  \n",
      "6.56         1\n",
      "10.04        1\n",
      "16.36        1\n",
      "9.39         1\n",
      "33.98        1\n",
      "Name: kitchen_area, Length: 2431, dtype: int64\n",
      "****************************************************************************************************\n",
      "object_type\n",
      "1     351067\n",
      "11    148934\n",
      "Name: object_type, dtype: int64\n",
      "****************************************************************************************************\n"
     ]
    }
   ],
   "source": [
    "for col in df.columns:\n",
    "    print(col)\n",
    "    print(df[col].value_counts())\n",
    "    print('*'*100)"
   ]
  },
  {
   "cell_type": "markdown",
   "id": "5ab09293",
   "metadata": {},
   "source": [
    "If we look at the column names, we'll notice we have not the trailing whitespace problem."
   ]
  },
  {
   "cell_type": "code",
   "execution_count": 9,
   "id": "ccd316a1",
   "metadata": {},
   "outputs": [
    {
     "data": {
      "text/plain": [
       "Index(['Unnamed: 0', 'price', 'date', 'time', 'geo_lat', 'geo_lon', 'region',\n",
       "       'building_type', 'level', 'levels', 'rooms', 'area', 'kitchen_area',\n",
       "       'object_type'],\n",
       "      dtype='object')"
      ]
     },
     "execution_count": 9,
     "metadata": {},
     "output_type": "execute_result"
    }
   ],
   "source": [
    "df.columns"
   ]
  },
  {
   "cell_type": "markdown",
   "id": "97349883",
   "metadata": {},
   "source": [
    "Now we're ready to start data cleaning."
   ]
  },
  {
   "cell_type": "markdown",
   "id": "47ecb296",
   "metadata": {},
   "source": [
    "From `.head()` it look like there is unwanted columns"
   ]
  },
  {
   "cell_type": "code",
   "execution_count": 10,
   "id": "fb317ba1",
   "metadata": {},
   "outputs": [
    {
     "data": {
      "text/html": [
       "<div>\n",
       "<style scoped>\n",
       "    .dataframe tbody tr th:only-of-type {\n",
       "        vertical-align: middle;\n",
       "    }\n",
       "\n",
       "    .dataframe tbody tr th {\n",
       "        vertical-align: top;\n",
       "    }\n",
       "\n",
       "    .dataframe thead th {\n",
       "        text-align: right;\n",
       "    }\n",
       "</style>\n",
       "<table border=\"1\" class=\"dataframe\">\n",
       "  <thead>\n",
       "    <tr style=\"text-align: right;\">\n",
       "      <th></th>\n",
       "      <th>price</th>\n",
       "      <th>date</th>\n",
       "      <th>geo_lat</th>\n",
       "      <th>geo_lon</th>\n",
       "      <th>region</th>\n",
       "      <th>building_type</th>\n",
       "      <th>level</th>\n",
       "      <th>levels</th>\n",
       "      <th>rooms</th>\n",
       "      <th>area</th>\n",
       "      <th>kitchen_area</th>\n",
       "      <th>object_type</th>\n",
       "    </tr>\n",
       "  </thead>\n",
       "  <tbody>\n",
       "    <tr>\n",
       "      <th>0</th>\n",
       "      <td>6050000</td>\n",
       "      <td>2018-02-19</td>\n",
       "      <td>59.805808</td>\n",
       "      <td>30.376141</td>\n",
       "      <td>2661</td>\n",
       "      <td>1</td>\n",
       "      <td>8</td>\n",
       "      <td>10</td>\n",
       "      <td>3</td>\n",
       "      <td>82.6</td>\n",
       "      <td>10.8</td>\n",
       "      <td>1</td>\n",
       "    </tr>\n",
       "    <tr>\n",
       "      <th>1</th>\n",
       "      <td>8650000</td>\n",
       "      <td>2018-02-27</td>\n",
       "      <td>55.683807</td>\n",
       "      <td>37.297405</td>\n",
       "      <td>81</td>\n",
       "      <td>3</td>\n",
       "      <td>5</td>\n",
       "      <td>24</td>\n",
       "      <td>2</td>\n",
       "      <td>69.1</td>\n",
       "      <td>12.0</td>\n",
       "      <td>1</td>\n",
       "    </tr>\n",
       "    <tr>\n",
       "      <th>2</th>\n",
       "      <td>4000000</td>\n",
       "      <td>2018-02-28</td>\n",
       "      <td>56.295250</td>\n",
       "      <td>44.061637</td>\n",
       "      <td>2871</td>\n",
       "      <td>1</td>\n",
       "      <td>5</td>\n",
       "      <td>9</td>\n",
       "      <td>3</td>\n",
       "      <td>66.0</td>\n",
       "      <td>10.0</td>\n",
       "      <td>1</td>\n",
       "    </tr>\n",
       "    <tr>\n",
       "      <th>3</th>\n",
       "      <td>1850000</td>\n",
       "      <td>2018-03-01</td>\n",
       "      <td>44.996132</td>\n",
       "      <td>39.074783</td>\n",
       "      <td>2843</td>\n",
       "      <td>4</td>\n",
       "      <td>12</td>\n",
       "      <td>16</td>\n",
       "      <td>2</td>\n",
       "      <td>38.0</td>\n",
       "      <td>5.0</td>\n",
       "      <td>11</td>\n",
       "    </tr>\n",
       "    <tr>\n",
       "      <th>4</th>\n",
       "      <td>5450000</td>\n",
       "      <td>2018-03-01</td>\n",
       "      <td>55.918767</td>\n",
       "      <td>37.984642</td>\n",
       "      <td>81</td>\n",
       "      <td>3</td>\n",
       "      <td>13</td>\n",
       "      <td>14</td>\n",
       "      <td>2</td>\n",
       "      <td>60.0</td>\n",
       "      <td>10.0</td>\n",
       "      <td>1</td>\n",
       "    </tr>\n",
       "  </tbody>\n",
       "</table>\n",
       "</div>"
      ],
      "text/plain": [
       "     price        date    geo_lat    geo_lon  region  building_type  level  \\\n",
       "0  6050000  2018-02-19  59.805808  30.376141    2661              1      8   \n",
       "1  8650000  2018-02-27  55.683807  37.297405      81              3      5   \n",
       "2  4000000  2018-02-28  56.295250  44.061637    2871              1      5   \n",
       "3  1850000  2018-03-01  44.996132  39.074783    2843              4     12   \n",
       "4  5450000  2018-03-01  55.918767  37.984642      81              3     13   \n",
       "\n",
       "   levels  rooms  area  kitchen_area  object_type  \n",
       "0      10      3  82.6          10.8            1  \n",
       "1      24      2  69.1          12.0            1  \n",
       "2       9      3  66.0          10.0            1  \n",
       "3      16      2  38.0           5.0           11  \n",
       "4      14      2  60.0          10.0            1  "
      ]
     },
     "execution_count": 10,
     "metadata": {},
     "output_type": "execute_result"
    }
   ],
   "source": [
    "df = df.drop(columns=['Unnamed: 0','time'])\n",
    "df.head()"
   ]
  },
  {
   "cell_type": "markdown",
   "id": "44987035",
   "metadata": {},
   "source": [
    "From `.info()` and `isna()` it looks like we don't have any null values in this dataset.  But check out the `.value_counts()` and `.describe()` It looks like the authors of this dataset have used -1 for studio rooms and -2 to signify missing values.  We could convert this now"
   ]
  },
  {
   "cell_type": "code",
   "execution_count": 11,
   "id": "1906b924",
   "metadata": {},
   "outputs": [],
   "source": [
    "# since -2 isn't often repeated and also it is missing value so dropping any real state which has number of rooms = -2 as it isn't logical** \n",
    "df = df[df['rooms'] != -2]\n",
    "# since -1 refer to only room without liviing room so replacing any value of rooms with 0 instead of -1\n",
    "df['rooms'] = df['rooms'].replace(-1 , 0)"
   ]
  },
  {
   "cell_type": "code",
   "execution_count": 12,
   "id": "ede3f196",
   "metadata": {},
   "outputs": [
    {
     "data": {
      "text/plain": [
       "1    211912\n",
       "2    163567\n",
       "3    102700\n",
       "4     12825\n",
       "0      6671\n",
       "5      1940\n",
       "6       213\n",
       "7        71\n",
       "8        37\n",
       "9        37\n",
       "Name: rooms, dtype: int64"
      ]
     },
     "execution_count": 12,
     "metadata": {},
     "output_type": "execute_result"
    }
   ],
   "source": [
    "df['rooms'].value_counts()"
   ]
  },
  {
   "cell_type": "markdown",
   "id": "fdcc1782",
   "metadata": {},
   "source": [
    "From `.value_counts()`, since we took a sample of dataset which is 500k instead of 5M and all date in 2018 so split the month from date"
   ]
  },
  {
   "cell_type": "code",
   "execution_count": 13,
   "id": "fbb5a029",
   "metadata": {},
   "outputs": [
    {
     "data": {
      "text/plain": [
       "18    499973\n",
       "Name: date, dtype: int64"
      ]
     },
     "execution_count": 13,
     "metadata": {},
     "output_type": "execute_result"
    }
   ],
   "source": [
    "rn = df.copy()\n",
    "rn['date'] = pd.to_datetime(df['date'])\n",
    "rn.date = rn.date.dt.strftime('%y')\n",
    "rn['date'].value_counts()"
   ]
  },
  {
   "cell_type": "code",
   "execution_count": 14,
   "id": "bd73405d",
   "metadata": {},
   "outputs": [
    {
     "data": {
      "text/plain": [
       "10    213348\n",
       "09    176610\n",
       "11    109796\n",
       "08        80\n",
       "07        39\n",
       "04        28\n",
       "03        25\n",
       "06        25\n",
       "05        19\n",
       "02         3\n",
       "Name: date, dtype: int64"
      ]
     },
     "execution_count": 14,
     "metadata": {},
     "output_type": "execute_result"
    }
   ],
   "source": [
    "df['date'] = pd.to_datetime(df['date'])\n",
    "df.date = df.date.dt.strftime('%m')\n",
    "df['date'].value_counts()"
   ]
  },
  {
   "cell_type": "markdown",
   "id": "68faf6db",
   "metadata": {},
   "source": [
    "# Data Visualization"
   ]
  },
  {
   "cell_type": "code",
   "execution_count": 15,
   "id": "c9e4dec8",
   "metadata": {},
   "outputs": [
    {
     "data": {
      "image/png": "[encoded data removed]",
      "text/plain": [
       "<Figure size 432x288 with 1 Axes>"
      ]
     },
     "metadata": {
      "needs_background": "light"
     },
     "output_type": "display_data"
    }
   ],
   "source": [
    "plt.hist(df['kitchen_area'],bins = 15)\n",
    "plt.title('Kitchen_area')\n",
    "plt.xlabel('Kitchen area')\n",
    "plt.ylabel('Counts')\n",
    "plt.show()"
   ]
  },
  {
   "cell_type": "code",
   "execution_count": 16,
   "id": "e8e9c6c6",
   "metadata": {},
   "outputs": [
    {
     "data": {
      "image/png": "[encoded data removed]",
      "text/plain": [
       "<Figure size 432x288 with 1 Axes>"
      ]
     },
     "metadata": {
      "needs_background": "light"
     },
     "output_type": "display_data"
    }
   ],
   "source": [
    "plt.hist(df['date'], bins = 20)\n",
    "plt.xlabel('Months')\n",
    "plt.ylabel('Counts')\n",
    "plt.show()"
   ]
  },
  {
   "cell_type": "code",
   "execution_count": 17,
   "id": "01734f75",
   "metadata": {},
   "outputs": [
    {
     "data": {
      "image/png": "[encoded data removed]",
      "text/plain": [
       "<Figure size 432x288 with 1 Axes>"
      ]
     },
     "metadata": {
      "needs_background": "light"
     },
     "output_type": "display_data"
    }
   ],
   "source": [
    "plt.hist(df['rooms'],bins =20);\n",
    "plt.title('# of Rooms')\n",
    "plt.show()"
   ]
  },
  {
   "cell_type": "code",
   "execution_count": 18,
   "id": "6bcc9130",
   "metadata": {},
   "outputs": [
    {
     "data": {
      "image/png": "[encoded data removed]",
      "text/plain": [
       "<Figure size 432x288 with 1 Axes>"
      ]
     },
     "metadata": {
      "needs_background": "light"
     },
     "output_type": "display_data"
    }
   ],
   "source": [
    "sns.histplot(df['building_type'],bins=8);"
   ]
  },
  {
   "cell_type": "code",
   "execution_count": 19,
   "id": "e0f19966",
   "metadata": {},
   "outputs": [
    {
     "data": {
      "image/png": "[encoded data removed]",
      "text/plain": [
       "<Figure size 432x288 with 1 Axes>"
      ]
     },
     "metadata": {},
     "output_type": "display_data"
    }
   ],
   "source": [
    "plt.pie(df['object_type'].value_counts(), labels=df['object_type'].unique(), autopct='%1.0f%%', pctdistance=1.1, labeldistance=1.3)\n",
    "plt.title(\"Object type\")\n",
    "plt.show()"
   ]
  },
  {
   "cell_type": "code",
   "execution_count": 20,
   "id": "b717ddbd",
   "metadata": {},
   "outputs": [
    {
     "data": {
      "image/png": "[encoded data removed]",
      "text/plain": [
       "<Figure size 432x288 with 1 Axes>"
      ]
     },
     "metadata": {
      "needs_background": "light"
     },
     "output_type": "display_data"
    }
   ],
   "source": [
    "plt.scatter(df['kitchen_area'],df['price'])\n",
    "plt.xlabel('Kitchen area')\n",
    "plt.ylabel('Price');"
   ]
  },
  {
   "cell_type": "code",
   "execution_count": 21,
   "id": "c9fb4976",
   "metadata": {},
   "outputs": [
    {
     "data": {
      "image/png": "[encoded data removed]",
      "text/plain": [
       "<Figure size 432x288 with 1 Axes>"
      ]
     },
     "metadata": {
      "needs_background": "light"
     },
     "output_type": "display_data"
    }
   ],
   "source": [
    "plt.scatter(df['area'],df['price'])\n",
    "plt.xlabel('Area')\n",
    "plt.ylabel('Price');"
   ]
  },
  {
   "cell_type": "code",
   "execution_count": 22,
   "id": "6f86d8bf",
   "metadata": {},
   "outputs": [
    {
     "data": {
      "image/png": "[encoded data removed]",
      "text/plain": [
       "<Figure size 432x288 with 1 Axes>"
      ]
     },
     "metadata": {
      "needs_background": "light"
     },
     "output_type": "display_data"
    }
   ],
   "source": [
    "sns.scatterplot(x='geo_lat', y='geo_lon', data=df)\n",
    "plt.show()"
   ]
  },
  {
   "cell_type": "code",
   "execution_count": 23,
   "id": "f473ead4",
   "metadata": {},
   "outputs": [
    {
     "data": {
      "image/png": "[encoded data removed]",
      "text/plain": [
       "<Figure size 1080x720 with 2 Axes>"
      ]
     },
     "metadata": {
      "needs_background": "light"
     },
     "output_type": "display_data"
    }
   ],
   "source": [
    "corr = df.corr()\n",
    "f,axes = plt.subplots(figsize = (15,10))\n",
    "sns.heatmap(corr, annot = True, cmap='Blues')\n",
    "plt.show()"
   ]
  },
  {
   "cell_type": "code",
   "execution_count": 24,
   "id": "39b32e66",
   "metadata": {},
   "outputs": [],
   "source": [
    "sns.pairplot(df)"
   ]
  },
  {
   "cell_type": "markdown",
   "id": "b57af2f2",
   "metadata": {},
   "source": [
    "# Outliers"
   ]
  },
  {
   "cell_type": "markdown",
   "id": "8d2f3dfb",
   "metadata": {},
   "source": [
    "From `.describe()` and Visualization, remove outlires in price & area and kitchen area"
   ]
  },
  {
   "cell_type": "code",
   "execution_count": 25,
   "id": "24a6e84f",
   "metadata": {},
   "outputs": [],
   "source": [
    "#Choose the suitable range to deal with outliers\n",
    "\n",
    "df = df[df['price']>1000000]\n",
    "df = df[df['price']<50000000]\n",
    "df = df[df['area']<1500]\n",
    "df = df[df['kitchen_area']<1000]"
   ]
  },
  {
   "cell_type": "code",
   "execution_count": 26,
   "id": "b9824690",
   "metadata": {},
   "outputs": [
    {
     "data": {
      "text/plain": [
       "(475088, 12)"
      ]
     },
     "execution_count": 26,
     "metadata": {},
     "output_type": "execute_result"
    }
   ],
   "source": [
    "df.shape"
   ]
  },
  {
   "cell_type": "code",
   "execution_count": 27,
   "id": "59b2b1f4",
   "metadata": {},
   "outputs": [
    {
     "data": {
      "image/png": "[encoded data removed]",
      "text/plain": [
       "<Figure size 432x288 with 1 Axes>"
      ]
     },
     "metadata": {
      "needs_background": "light"
     },
     "output_type": "display_data"
    }
   ],
   "source": [
    "plt.scatter(df['kitchen_area'],df['price'])\n",
    "plt.xlabel('Kitchen area')\n",
    "plt.ylabel('Price');"
   ]
  },
  {
   "cell_type": "code",
   "execution_count": 28,
   "id": "eedaf492",
   "metadata": {},
   "outputs": [
    {
     "data": {
      "image/png": "[encoded data removed]",
      "text/plain": [
       "<Figure size 432x288 with 1 Axes>"
      ]
     },
     "metadata": {
      "needs_background": "light"
     },
     "output_type": "display_data"
    }
   ],
   "source": [
    "plt.scatter(df['area'],df['price'])\n",
    "plt.xlabel('Area')\n",
    "plt.ylabel('Price');"
   ]
  },
  {
   "cell_type": "markdown",
   "id": "362891e3",
   "metadata": {},
   "source": [
    "# Feature Engineering"
   ]
  },
  {
   "cell_type": "code",
   "execution_count": 29,
   "id": "2dfd8445",
   "metadata": {
    "scrolled": true
   },
   "outputs": [
    {
     "data": {
      "text/html": [
       "<div>\n",
       "<style scoped>\n",
       "    .dataframe tbody tr th:only-of-type {\n",
       "        vertical-align: middle;\n",
       "    }\n",
       "\n",
       "    .dataframe tbody tr th {\n",
       "        vertical-align: top;\n",
       "    }\n",
       "\n",
       "    .dataframe thead th {\n",
       "        text-align: right;\n",
       "    }\n",
       "</style>\n",
       "<table border=\"1\" class=\"dataframe\">\n",
       "  <thead>\n",
       "    <tr style=\"text-align: right;\">\n",
       "      <th></th>\n",
       "      <th>price</th>\n",
       "      <th>date</th>\n",
       "      <th>geo_lat</th>\n",
       "      <th>geo_lon</th>\n",
       "      <th>region</th>\n",
       "      <th>building_type</th>\n",
       "      <th>level</th>\n",
       "      <th>levels</th>\n",
       "      <th>rooms</th>\n",
       "      <th>area</th>\n",
       "      <th>kitchen_area</th>\n",
       "      <th>object_type</th>\n",
       "      <th>avg_price</th>\n",
       "    </tr>\n",
       "  </thead>\n",
       "  <tbody>\n",
       "    <tr>\n",
       "      <th>0</th>\n",
       "      <td>6050000</td>\n",
       "      <td>02</td>\n",
       "      <td>59.805808</td>\n",
       "      <td>30.376141</td>\n",
       "      <td>2661</td>\n",
       "      <td>1</td>\n",
       "      <td>8</td>\n",
       "      <td>10</td>\n",
       "      <td>3</td>\n",
       "      <td>82.6</td>\n",
       "      <td>10.8</td>\n",
       "      <td>1</td>\n",
       "      <td>4.826000e+06</td>\n",
       "    </tr>\n",
       "    <tr>\n",
       "      <th>1</th>\n",
       "      <td>8650000</td>\n",
       "      <td>02</td>\n",
       "      <td>55.683807</td>\n",
       "      <td>37.297405</td>\n",
       "      <td>81</td>\n",
       "      <td>3</td>\n",
       "      <td>5</td>\n",
       "      <td>24</td>\n",
       "      <td>2</td>\n",
       "      <td>69.1</td>\n",
       "      <td>12.0</td>\n",
       "      <td>1</td>\n",
       "      <td>8.733333e+06</td>\n",
       "    </tr>\n",
       "    <tr>\n",
       "      <th>2</th>\n",
       "      <td>4000000</td>\n",
       "      <td>02</td>\n",
       "      <td>56.295250</td>\n",
       "      <td>44.061637</td>\n",
       "      <td>2871</td>\n",
       "      <td>1</td>\n",
       "      <td>5</td>\n",
       "      <td>9</td>\n",
       "      <td>3</td>\n",
       "      <td>66.0</td>\n",
       "      <td>10.0</td>\n",
       "      <td>1</td>\n",
       "      <td>4.245680e+06</td>\n",
       "    </tr>\n",
       "    <tr>\n",
       "      <th>3</th>\n",
       "      <td>1850000</td>\n",
       "      <td>03</td>\n",
       "      <td>44.996132</td>\n",
       "      <td>39.074783</td>\n",
       "      <td>2843</td>\n",
       "      <td>4</td>\n",
       "      <td>12</td>\n",
       "      <td>16</td>\n",
       "      <td>2</td>\n",
       "      <td>38.0</td>\n",
       "      <td>5.0</td>\n",
       "      <td>11</td>\n",
       "      <td>2.450167e+06</td>\n",
       "    </tr>\n",
       "    <tr>\n",
       "      <th>4</th>\n",
       "      <td>5450000</td>\n",
       "      <td>03</td>\n",
       "      <td>55.918767</td>\n",
       "      <td>37.984642</td>\n",
       "      <td>81</td>\n",
       "      <td>3</td>\n",
       "      <td>13</td>\n",
       "      <td>14</td>\n",
       "      <td>2</td>\n",
       "      <td>60.0</td>\n",
       "      <td>10.0</td>\n",
       "      <td>1</td>\n",
       "      <td>4.990000e+06</td>\n",
       "    </tr>\n",
       "  </tbody>\n",
       "</table>\n",
       "</div>"
      ],
      "text/plain": [
       "     price date    geo_lat    geo_lon  region  building_type  level  levels  \\\n",
       "0  6050000   02  59.805808  30.376141    2661              1      8      10   \n",
       "1  8650000   02  55.683807  37.297405      81              3      5      24   \n",
       "2  4000000   02  56.295250  44.061637    2871              1      5       9   \n",
       "3  1850000   03  44.996132  39.074783    2843              4     12      16   \n",
       "4  5450000   03  55.918767  37.984642      81              3     13      14   \n",
       "\n",
       "   rooms  area  kitchen_area  object_type     avg_price  \n",
       "0      3  82.6          10.8            1  4.826000e+06  \n",
       "1      2  69.1          12.0            1  8.733333e+06  \n",
       "2      3  66.0          10.0            1  4.245680e+06  \n",
       "3      2  38.0           5.0           11  2.450167e+06  \n",
       "4      2  60.0          10.0            1  4.990000e+06  "
      ]
     },
     "execution_count": 29,
     "metadata": {},
     "output_type": "execute_result"
    }
   ],
   "source": [
    "#Create pivot to add new feature (Average Price)\n",
    "price_pivot = df.pivot_table(index =['geo_lat' , 'geo_lon'], values = ['price'] ).reset_index()\n",
    "\n",
    "price_pivot = price_pivot.rename({'price':'avg_price'},axis=1)\n",
    "\n",
    "df = df.merge(price_pivot,on = ['geo_lat','geo_lon'], how='left')\n",
    "df.head()"
   ]
  },
  {
   "cell_type": "code",
   "execution_count": 30,
   "id": "e9e1b822",
   "metadata": {},
   "outputs": [],
   "source": [
    "#df['geo_lat']"
   ]
  },
  {
   "cell_type": "code",
   "execution_count": 31,
   "id": "b15fdafe",
   "metadata": {},
   "outputs": [],
   "source": [
    "#df['geo_lon']"
   ]
  },
  {
   "cell_type": "code",
   "execution_count": 32,
   "id": "2544b60b",
   "metadata": {},
   "outputs": [],
   "source": [
    "#df['geo_lat'] = np.sqrt(df['geo_lat'])\n",
    "#df['geo_lon'] = np.sqrt(df['geo_lon'])"
   ]
  },
  {
   "cell_type": "code",
   "execution_count": 33,
   "id": "8ce097a0",
   "metadata": {},
   "outputs": [],
   "source": [
    "#df['geo_lat']"
   ]
  },
  {
   "cell_type": "code",
   "execution_count": 34,
   "id": "e281cfbf",
   "metadata": {},
   "outputs": [],
   "source": [
    "#df['geo_lon']"
   ]
  },
  {
   "cell_type": "code",
   "execution_count": 35,
   "id": "da617413",
   "metadata": {},
   "outputs": [
    {
     "data": {
      "text/html": [
       "<div>\n",
       "<style scoped>\n",
       "    .dataframe tbody tr th:only-of-type {\n",
       "        vertical-align: middle;\n",
       "    }\n",
       "\n",
       "    .dataframe tbody tr th {\n",
       "        vertical-align: top;\n",
       "    }\n",
       "\n",
       "    .dataframe thead th {\n",
       "        text-align: right;\n",
       "    }\n",
       "</style>\n",
       "<table border=\"1\" class=\"dataframe\">\n",
       "  <thead>\n",
       "    <tr style=\"text-align: right;\">\n",
       "      <th></th>\n",
       "      <th>count</th>\n",
       "      <th>mean</th>\n",
       "      <th>std</th>\n",
       "      <th>min</th>\n",
       "      <th>25%</th>\n",
       "      <th>50%</th>\n",
       "      <th>75%</th>\n",
       "      <th>max</th>\n",
       "    </tr>\n",
       "  </thead>\n",
       "  <tbody>\n",
       "    <tr>\n",
       "      <th>price</th>\n",
       "      <td>475088.0</td>\n",
       "      <td>3.736575e+06</td>\n",
       "      <td>3.699511e+06</td>\n",
       "      <td>1.000008e+06</td>\n",
       "      <td>1.750000e+06</td>\n",
       "      <td>2.600000e+06</td>\n",
       "      <td>4.254900e+06</td>\n",
       "      <td>4.999000e+07</td>\n",
       "    </tr>\n",
       "    <tr>\n",
       "      <th>geo_lat</th>\n",
       "      <td>475088.0</td>\n",
       "      <td>5.391240e+01</td>\n",
       "      <td>4.674809e+00</td>\n",
       "      <td>4.145909e+01</td>\n",
       "      <td>5.418093e+01</td>\n",
       "      <td>5.505765e+01</td>\n",
       "      <td>5.599194e+01</td>\n",
       "      <td>7.198040e+01</td>\n",
       "    </tr>\n",
       "    <tr>\n",
       "      <th>geo_lon</th>\n",
       "      <td>475088.0</td>\n",
       "      <td>5.436983e+01</td>\n",
       "      <td>2.091157e+01</td>\n",
       "      <td>2.760133e+01</td>\n",
       "      <td>3.788287e+01</td>\n",
       "      <td>4.384543e+01</td>\n",
       "      <td>8.292672e+01</td>\n",
       "      <td>1.366419e+02</td>\n",
       "    </tr>\n",
       "    <tr>\n",
       "      <th>region</th>\n",
       "      <td>475088.0</td>\n",
       "      <td>4.489040e+03</td>\n",
       "      <td>3.524025e+03</td>\n",
       "      <td>3.000000e+00</td>\n",
       "      <td>2.661000e+03</td>\n",
       "      <td>2.922000e+03</td>\n",
       "      <td>9.654000e+03</td>\n",
       "      <td>1.488000e+04</td>\n",
       "    </tr>\n",
       "    <tr>\n",
       "      <th>building_type</th>\n",
       "      <td>475088.0</td>\n",
       "      <td>1.885263e+00</td>\n",
       "      <td>1.047411e+00</td>\n",
       "      <td>0.000000e+00</td>\n",
       "      <td>1.000000e+00</td>\n",
       "      <td>2.000000e+00</td>\n",
       "      <td>3.000000e+00</td>\n",
       "      <td>5.000000e+00</td>\n",
       "    </tr>\n",
       "    <tr>\n",
       "      <th>level</th>\n",
       "      <td>475088.0</td>\n",
       "      <td>6.135766e+00</td>\n",
       "      <td>4.822725e+00</td>\n",
       "      <td>1.000000e+00</td>\n",
       "      <td>2.000000e+00</td>\n",
       "      <td>5.000000e+00</td>\n",
       "      <td>9.000000e+00</td>\n",
       "      <td>3.900000e+01</td>\n",
       "    </tr>\n",
       "    <tr>\n",
       "      <th>levels</th>\n",
       "      <td>475088.0</td>\n",
       "      <td>1.124916e+01</td>\n",
       "      <td>6.241264e+00</td>\n",
       "      <td>1.000000e+00</td>\n",
       "      <td>5.000000e+00</td>\n",
       "      <td>1.000000e+01</td>\n",
       "      <td>1.600000e+01</td>\n",
       "      <td>3.900000e+01</td>\n",
       "    </tr>\n",
       "    <tr>\n",
       "      <th>rooms</th>\n",
       "      <td>475088.0</td>\n",
       "      <td>1.844164e+00</td>\n",
       "      <td>8.910543e-01</td>\n",
       "      <td>0.000000e+00</td>\n",
       "      <td>1.000000e+00</td>\n",
       "      <td>2.000000e+00</td>\n",
       "      <td>2.000000e+00</td>\n",
       "      <td>9.000000e+00</td>\n",
       "    </tr>\n",
       "    <tr>\n",
       "      <th>area</th>\n",
       "      <td>475088.0</td>\n",
       "      <td>5.432144e+01</td>\n",
       "      <td>2.398582e+01</td>\n",
       "      <td>5.000000e+00</td>\n",
       "      <td>3.935000e+01</td>\n",
       "      <td>4.894000e+01</td>\n",
       "      <td>6.313000e+01</td>\n",
       "      <td>1.000000e+03</td>\n",
       "    </tr>\n",
       "    <tr>\n",
       "      <th>kitchen_area</th>\n",
       "      <td>475088.0</td>\n",
       "      <td>1.056875e+01</td>\n",
       "      <td>5.980065e+00</td>\n",
       "      <td>5.000000e-02</td>\n",
       "      <td>7.000000e+00</td>\n",
       "      <td>9.900000e+00</td>\n",
       "      <td>1.240000e+01</td>\n",
       "      <td>9.999900e+02</td>\n",
       "    </tr>\n",
       "    <tr>\n",
       "      <th>object_type</th>\n",
       "      <td>475088.0</td>\n",
       "      <td>3.953221e+00</td>\n",
       "      <td>4.561879e+00</td>\n",
       "      <td>1.000000e+00</td>\n",
       "      <td>1.000000e+00</td>\n",
       "      <td>1.000000e+00</td>\n",
       "      <td>1.100000e+01</td>\n",
       "      <td>1.100000e+01</td>\n",
       "    </tr>\n",
       "    <tr>\n",
       "      <th>avg_price</th>\n",
       "      <td>475088.0</td>\n",
       "      <td>3.736575e+06</td>\n",
       "      <td>3.344517e+06</td>\n",
       "      <td>1.000010e+06</td>\n",
       "      <td>1.786459e+06</td>\n",
       "      <td>2.703333e+06</td>\n",
       "      <td>4.391412e+06</td>\n",
       "      <td>4.999000e+07</td>\n",
       "    </tr>\n",
       "  </tbody>\n",
       "</table>\n",
       "</div>"
      ],
      "text/plain": [
       "                  count          mean           std           min  \\\n",
       "price          475088.0  3.736575e+06  3.699511e+06  1.000008e+06   \n",
       "geo_lat        475088.0  5.391240e+01  4.674809e+00  4.145909e+01   \n",
       "geo_lon        475088.0  5.436983e+01  2.091157e+01  2.760133e+01   \n",
       "region         475088.0  4.489040e+03  3.524025e+03  3.000000e+00   \n",
       "building_type  475088.0  1.885263e+00  1.047411e+00  0.000000e+00   \n",
       "level          475088.0  6.135766e+00  4.822725e+00  1.000000e+00   \n",
       "levels         475088.0  1.124916e+01  6.241264e+00  1.000000e+00   \n",
       "rooms          475088.0  1.844164e+00  8.910543e-01  0.000000e+00   \n",
       "area           475088.0  5.432144e+01  2.398582e+01  5.000000e+00   \n",
       "kitchen_area   475088.0  1.056875e+01  5.980065e+00  5.000000e-02   \n",
       "object_type    475088.0  3.953221e+00  4.561879e+00  1.000000e+00   \n",
       "avg_price      475088.0  3.736575e+06  3.344517e+06  1.000010e+06   \n",
       "\n",
       "                        25%           50%           75%           max  \n",
       "price          1.750000e+06  2.600000e+06  4.254900e+06  4.999000e+07  \n",
       "geo_lat        5.418093e+01  5.505765e+01  5.599194e+01  7.198040e+01  \n",
       "geo_lon        3.788287e+01  4.384543e+01  8.292672e+01  1.366419e+02  \n",
       "region         2.661000e+03  2.922000e+03  9.654000e+03  1.488000e+04  \n",
       "building_type  1.000000e+00  2.000000e+00  3.000000e+00  5.000000e+00  \n",
       "level          2.000000e+00  5.000000e+00  9.000000e+00  3.900000e+01  \n",
       "levels         5.000000e+00  1.000000e+01  1.600000e+01  3.900000e+01  \n",
       "rooms          1.000000e+00  2.000000e+00  2.000000e+00  9.000000e+00  \n",
       "area           3.935000e+01  4.894000e+01  6.313000e+01  1.000000e+03  \n",
       "kitchen_area   7.000000e+00  9.900000e+00  1.240000e+01  9.999900e+02  \n",
       "object_type    1.000000e+00  1.000000e+00  1.100000e+01  1.100000e+01  \n",
       "avg_price      1.786459e+06  2.703333e+06  4.391412e+06  4.999000e+07  "
      ]
     },
     "execution_count": 35,
     "metadata": {},
     "output_type": "execute_result"
    }
   ],
   "source": [
    "df.describe().transpose()"
   ]
  },
  {
   "cell_type": "markdown",
   "id": "fb84b565",
   "metadata": {},
   "source": [
    "randomly sample 1,000 rows "
   ]
  },
  {
   "cell_type": "code",
   "execution_count": 36,
   "id": "bef2ac55",
   "metadata": {},
   "outputs": [
    {
     "data": {
      "text/plain": [
       "(1000,)"
      ]
     },
     "execution_count": 36,
     "metadata": {},
     "output_type": "execute_result"
    }
   ],
   "source": [
    " arr_samp = np.random.choice(df['price'], 1000, replace=False)\n",
    "arr_samp.shape"
   ]
  },
  {
   "cell_type": "code",
   "execution_count": 37,
   "id": "1c9b0efe",
   "metadata": {},
   "outputs": [
    {
     "name": "stdout",
     "output_type": "stream",
     "text": [
      "Mean: 3972929.394\n",
      "Median: 2794500.0\n",
      "Standard deviation: 4316073.146014072\n",
      "Index of largest: 713\n",
      "Value of largest: 49678800\n",
      "75th Percentile: 4300000.0\n",
      "max: 49678800\n",
      "min: 1014520\n"
     ]
    }
   ],
   "source": [
    "    print(f\"Mean: {np.mean(arr_samp)}\")\n",
    "    print(f\"Median: {np.median(arr_samp)}\")\n",
    "    print(f\"Standard deviation: {np.std(arr_samp)}\")\n",
    "    print(f\"Index of largest: {np.argmax(arr_samp)}\")\n",
    "    print(f\"Value of largest: {np.max(arr_samp)}\")\n",
    "    print(f\"75th Percentile: {np.percentile(arr_samp, 75)}\")\n",
    "    print(f\"max: {np.max(arr_samp)}\")\n",
    "    print(f\"min: {np.min(arr_samp)}\")"
   ]
  },
  {
   "cell_type": "markdown",
   "id": "84eb0078",
   "metadata": {},
   "source": [
    "Subtract 1000000 from all values that exceed 2000000"
   ]
  },
  {
   "cell_type": "code",
   "execution_count": 38,
   "id": "270af51d",
   "metadata": {},
   "outputs": [
    {
     "data": {
      "text/plain": [
       "array([ 1900000,  7200000,  1750000,  1200000,  6600000, 18000000,\n",
       "       21000000,  1850000,  3300000,  1700000,  1200000,  3600000,\n",
       "        1550000,  1120000,  2650000,  1450300,  1210000,  1675400,\n",
       "        3100000,  8339108,  1900000,  4900000,  1450000,  3400000,\n",
       "        1450000,  3700000,  1895000,  2446000,  1400000,  1180000,\n",
       "        5400000,  1780000,  4700000,  3600000,  1100000,  1780000,\n",
       "        1600000,  2900000,  1287000,  7000000,  1300000,  1750000,\n",
       "        2250000,  8900000,  1385000,  5140020,  2420000,  3000000,\n",
       "        1600000,  2750000,  2600000,  1800000,  9500000, 11644460,\n",
       "        1550000, 11990000,  4700000,  2950000,  1800000,  1922580,\n",
       "        1100000,  7300000,  2250000, 13900000,  1480000,  2410000,\n",
       "        1675373,  7700000,  2400000,  1650000,  2050000,  1650000,\n",
       "        1800000,  1190000,  1370000,  3250000,  1440000,  2100000,\n",
       "        1800000,  1301000,  1050000,  1350000, 25780000,  2600000,\n",
       "        1900000,  3200000,  1180000,  2650000,  3300000,  1350000,\n",
       "        1990000,  1300000,  4870790,  5600000,  1250000,  1949200,\n",
       "        3400000,  4800000,  1230000,  4350000,  1220000,  5296126,\n",
       "        1500000,  5000000,  6328310,  2750000,  3600000,  1300000,\n",
       "        3100000,  2299000, 10290000, 10720000,  3300000,  1620000,\n",
       "        2400000,  2784200,  6500000,  3500000,  3200000,  7036700,\n",
       "        1712000,  2000000,  1150000, 20000000,  1950000,  3050000,\n",
       "        2250000,  7700000,  1700000,  2600000,  1320000, 17000000,\n",
       "        1700000,  1490000,  9500000,  1300000,  2150000,  1400000,\n",
       "        1600000,  2200000,  1600000,  1999000,  1400000,  1780000,\n",
       "        1600000,  1100000,  1045000,  1300000,  1200000,  1150000,\n",
       "        1100000,  1700000,  1650000,  3649000,  2490000,  1200000,\n",
       "        1330000,  1550000,  1250000,  1141000,  2090000,  4500000,\n",
       "        1650000,  5800000,  1500000,  1650000,  6200000, 35260000,\n",
       "        1700000,  1680000,  1370000,  1470000,  1250000,  1350000,\n",
       "        1270000,  1600000,  4100000,  1630000,  1543220,  1920000,\n",
       "        2150000,  5250000,  1232000,  3500000,  2229800, 12384920,\n",
       "        3300000,  4840000,  3030000,  1846295,  2900000,  1809100,\n",
       "        1285000,  1740000,  1650000,  3976100,  2900000,  1550000,\n",
       "        6618944,  1350000,  1300000,  4950000,  2400000,  2350000,\n",
       "        1800000,  1750000,  2500000,  2190000,  1900000,  3700000,\n",
       "        1320000,  1950000,  1050000,  6600000,  1850000,  2000000,\n",
       "        1150000,  1580000,  1425010,  6000000,  1200000, 12865981,\n",
       "        4100000,  3430000,  5998180,  1600000,  1290000,  1380000,\n",
       "        1200000,  1700000,  2570000,  1500000,  1400000,  8200000,\n",
       "        1530000,  1700000,  1550000, 10500000,  1035000,  1519000,\n",
       "        9660814,  1800000,  1799000,  4130700,  1200000,  9534263,\n",
       "        5700000,  6650000,  2100000,  1485000,  3790000,  1319500,\n",
       "        2450000,  2250000,  2440000,  4696000, 16358328,  1690000,\n",
       "        1230000,  2000000,  1700000,  1700000,  6600000,  3300000,\n",
       "        1800000,  2000000,  1500000,  1050000,  2500000,  2200000,\n",
       "        1950000,  2895000,  1470000,  1560000,  1625701,  1500000,\n",
       "        1100000,  2600000,  1350000,  1850000,  1400000, 14080000,\n",
       "        1500000, 25569322,  3440000,  1287000,  3300000,  5400000,\n",
       "        5169230,  3580000,  1820000,  1800000,  4280800,  3300000,\n",
       "        2600000,  1100000,  3300000,  3500000,  9200000,  1750000,\n",
       "        1415000,  1700000,  1950000,  1566000,  1300000,  1920000,\n",
       "        2215000,  2500000,  4030000,  3630000,  5190800,  1800000,\n",
       "        1850000,  1126000,  7500000,  1250000,  1557800,  9999000,\n",
       "        1450000,  1850000,  1070000,  6200000,  1200000,  1780000,\n",
       "        1180817,  1250000, 15713490,  1900000,  5800000,  4100000,\n",
       "        3090000,  1350000,  1499000,  2000000,  1412500,  1600000,\n",
       "        1714360,  1790000,  4106650,  1300000,  2600000,  1170000,\n",
       "        1326000,  9800000,  1480000,  1460000,  2350000,  1846440,\n",
       "        3330000,  1650000,  1400000,  2800000,  2150000,  1400000,\n",
       "        1200000,  3070000,  3500000,  2650000,  1550000,  1850000,\n",
       "        3790000,  1120000,  9899560,  1034670,  1700000,  3250000,\n",
       "        1250000,  1834000,  2300000,  1250000,  1070000,  1140000,\n",
       "        2200000,  1878000,  5999999,  2200000,  1730000,  1350000,\n",
       "        1300000,  1099000,  1150000,  6580160,  1600000,  1980000,\n",
       "        1395000,  2330000,  1500000,  1500000,  3600000,  2450000,\n",
       "        1241000,  1240000,  1200000,  4100000,  1120000,  1750000,\n",
       "        4900000,  4950000,  2580000,  1800000,  1500000,  2000000,\n",
       "        4000000,  2100000,  8200000,  1050000,  4990000,  1850000,\n",
       "        4936420,  5594060,  2905202,  2777000,  1700000,  7200000,\n",
       "        1014520,  1550000,  3998277,  2850000,  1170000,  1350000,\n",
       "        1230000,  3400000,  1600000,  1825000,  4200000,  3123350,\n",
       "        1400000,  1900000,  1897000,  1300000,  1996000,  2200000,\n",
       "        2150000,  3430000,  1050000,  1470000,  1490000,  1474200,\n",
       "        1862000,  1300000,  3200000,  1320000,  2190000,  1500000,\n",
       "        1700000,  1650000,  4200000,  1231840,  1400000,  1850000,\n",
       "        5864040,  4600000,  2890000,  2600000,  1600000,  1850000,\n",
       "        1200000,  2800000,  1030000,  4950000,  1275184,  5211315,\n",
       "        1300000,  1050000,  3700000,  4699000,  1084000,  1400000,\n",
       "        2900000,  3100000,  3711740,  2290000,  1900000,  1350000,\n",
       "       13100000,  2500000,  1800000,  3200000,  1050000,  1560000,\n",
       "        1380000,  3150000,  7417611,  1700000,  2500000,  3200000,\n",
       "        1800000,  1890000,  1800000,  2810000,  1850000,  1199000,\n",
       "        1301804,  4700000,  3300000,  1300000,  2800000,  2000000,\n",
       "        4600000,  1600000,  1500000,  1100000,  1200000,  1030000,\n",
       "        1320000,  1400000,  1670000,  1690000,  1620000,  1690000,\n",
       "        3356287,  1050000,  1850000,  1850000,  3090000,  1720600,\n",
       "        1050000,  1650000,  2600000,  6500000,  3200000,  2400000,\n",
       "        1650000,  1750000,  1700000,  2400000,  1870000,  2600000,\n",
       "        5500000,  1100000,  1250000,  1400000,  5200000,  1150000,\n",
       "        1700000,  1220000,  2000000,  1763000,  1900000,  2750000,\n",
       "        3497000,  6700000,  2790000,  1600000, 11500000,  1700000,\n",
       "        2950000,  2400000,  2700000,  1850000,  4549000,  2500000,\n",
       "        2200000,  1950000,  2980000,  2200000,  3700000,  3250000,\n",
       "        1980000,  2250000,  1250000,  1310625,  9800000,  5082280,\n",
       "        1600000,  1850000, 44732000,  1300000,  1600000,  2850000,\n",
       "        1750000,  1550000,  1300000,  1600000,  3100000,  1300000,\n",
       "        4900000,  1450000,  1350000,  1790000,  2490000,  1449000,\n",
       "        8091688,  1599000,  2415000,  2100000,  3950000,  2900000,\n",
       "        1870000,  1949999,  1750000,  1700000,  3100000,  1250000,\n",
       "        2700000,  2300000,  6400000,  1500000,  9600000,  1320000,\n",
       "        4500000,  4976000,  5200000,  1150000,  1600000,  2850000,\n",
       "        1600000, 46000000,  1140088,  1380000,  2195540,  3450000,\n",
       "        3200000,  4899000,  1550000,  4580000,  1420000,  2199610,\n",
       "        2000000,  1950000,  1703000,  3800000,  1050000,  3890000,\n",
       "        1810000,  3900000,  1826000,  6168576,  6950000,  1500000,\n",
       "        1100000,  1650000, 15585525,  1500000,  2200000,  1800000,\n",
       "        1700000,  1610000,  1250000,  1250000,  2000000,  1345000,\n",
       "        1100000,  1150000,  2000000,  1495000,  3800000,  1150000,\n",
       "        1700000,  2950000, 26073274,  1550000,  3800000,  2100000,\n",
       "        2674220,  1600000,  6070280,  1650000,  2340000,  1643000,\n",
       "        2520000,  1650000,  1100000,  1390000,  1300000,  1350000,\n",
       "        1850000,  2950000,  1950000,  2000000,  5296940,  1400000,\n",
       "        9800000,  2470000,  1846295,  2726000,  1634000,  1200000,\n",
       "        4500000,  1500000,  3950000,  1900000,  1250000,  3190000,\n",
       "        1400000,  4485805,  1400000,  1030400,  1400000,  1780000,\n",
       "       15000000,  1550000,  3050000,  2500000,  1310000,  2900000,\n",
       "        2000000,  2272270,  1200000,  2000000,  6400000,  2867938,\n",
       "        1200000,  1950000,  3237080,  2328000,  2999000,  1600000,\n",
       "        5999000,  2200000,  1500000,  2292000,  2200000, 48678800,\n",
       "        7928630,  3900000,  1100000,  1600000,  1728600,  1200000,\n",
       "       12161360,  1170000,  2320000,  1050000,  2350000,  3500000,\n",
       "        2300000,  1650000,  1690000,  5000000,  3500000,  1560000,\n",
       "        1500000,  1150000,  2100000,  7450000,  3990000,  1602000,\n",
       "        1050000, 16500000,  6400000, 22900000,  8733000,  1900000,\n",
       "       12400000,  1549000,  1150000,  1700000,  5925120,  1878885,\n",
       "        1700000,  3050000,  1304900,  1700000,  1543000,  3198437,\n",
       "        1600000,  4700000,  2300000,  1600000,  1550000,  1050000,\n",
       "       20000000, 25000000,  6800000,  1750000,  1350000,  1573980,\n",
       "        1700000,  2400000,  1100000,  1600000,  2000000,  2300000,\n",
       "        4591000,  1450000,  1250000,  3400000,  1150000,  1600000,\n",
       "        1424990,  1600000,  1700000,  3200000,  1050000,  3600000,\n",
       "        1870000,  7500000,  1840000,  1750000,  1050000, 10720099,\n",
       "        1890000,  1650000,  2000000, 19000000,  1600000,  1760000,\n",
       "        1519630,  2080000,  1900000,  1100000,  6579853,  1130000,\n",
       "        4950000,  2350000,  1650000,  1600000,  3923030,  1620000,\n",
       "        1300000,  6350000,  7000000,  1850000,  2632820,  5681350,\n",
       "        1350000,  2900000,  5400000,  1900000,  1300000,  1280000,\n",
       "        7250000,  3400000,  3895100,  9352150,  4604326,  1550000,\n",
       "       13200000,  1460000, 24650000,  1600000,  2300000,  3700000,\n",
       "        1450000,  1400000,  2500000,  2200000,  1350000,  1700000,\n",
       "        1170000,  1009970,  2350000,  2800000,  1700000,  1200000,\n",
       "        2420000,  4987620,  1890000,  1540000,  2000000,  1150000,\n",
       "        4000000,  1725770,  3500000,  4700000,  1200000,  4990000,\n",
       "        4130990,  1650000,  2920000,  1760000,  1830000,  4807200,\n",
       "        1200000,  3631770,  3200000,  5500000,  2992463,  1600000,\n",
       "        3020000,  1150000,  2595130,  2350000,  4280000,  4776840,\n",
       "        1700000,  1450000,  1150000,  6300000,  1100000,  1200000,\n",
       "        1250000,  1050000,  1850000,  1750000,  1350000,  1750000,\n",
       "        1550000,  1750000,  5100000,  7306406,  1300000,  3056520,\n",
       "        2100000,  1332310,  1550000,  1350000,  1290000,  2000000,\n",
       "        5739681,  1580000, 13490000,  1170600,  1950000,  1750000,\n",
       "        1250000,  2350000,  4500000,  1250000, 13500000,  2865725,\n",
       "       21000000,  6867200,  1950000,  1250000,  1550000,  4250000,\n",
       "        6890000, 12590000,  1300000,  1150000,  1316000,  1450000,\n",
       "        5326075,  5000000,  1300000,  2800000,  1250000,  1550000,\n",
       "        2030000,  1650000,  2400000,  1774800,  2700000,  1180000,\n",
       "        2000000,  1250000,  1456000,  8274900,  1100000,  2647510,\n",
       "        2300000,  2600000,  8600000,  8500000,  1550000,  9100000,\n",
       "        1830000,  1580000,  1300000, 17550000,  5000000,  1650000,\n",
       "        1400000,  5060000,  5000000,  1839000,  9699370,  2160000,\n",
       "        1410000,  1220000,  1550000,  3990000,  1142000,  1800000,\n",
       "        2600000,  1900000,  2700000,  1800000,  2500000,  2734720,\n",
       "        1630000, 10900000,  1950000, 10000000,  1570000,  1650000,\n",
       "        3000000,  2500000,  2100000,  1378160,  6500000,  4290000,\n",
       "        1320000,  1490000,  2250000,  1850000,  1500000,  3350000,\n",
       "        1780700,  2450000,  2400000,  4900000,  1900000,  3130000,\n",
       "        1650000,  1650000,  5500000,  1150000], dtype=int64)"
      ]
     },
     "execution_count": 38,
     "metadata": {},
     "output_type": "execute_result"
    }
   ],
   "source": [
    "arr = np.where(arr_samp > 2000000, arr_samp - 1000000, arr_samp)\n",
    "arr"
   ]
  },
  {
   "cell_type": "code",
   "execution_count": 39,
   "id": "75ca76f0",
   "metadata": {},
   "outputs": [
    {
     "data": {
      "text/plain": [
       "(1009970, 48678800)"
      ]
     },
     "execution_count": 39,
     "metadata": {},
     "output_type": "execute_result"
    }
   ],
   "source": [
    "arr.min(), arr.max()"
   ]
  },
  {
   "cell_type": "markdown",
   "id": "190d511a",
   "metadata": {},
   "source": [
    "Now we're ready to start modeling! We're going to try out the validation process to choose between 3 models: linear regression, and Degree 2 polynomial regression and XGBRegressor."
   ]
  },
  {
   "cell_type": "markdown",
   "id": "341e000a",
   "metadata": {},
   "source": [
    "Here we will break the data into 3 portions: 60% for training, 20% for validation , 20% for final testing evaluation"
   ]
  },
  {
   "cell_type": "code",
   "execution_count": 40,
   "id": "07024107",
   "metadata": {},
   "outputs": [
    {
     "name": "stdout",
     "output_type": "stream",
     "text": [
      "<class 'pandas.core.frame.DataFrame'>\n",
      "Int64Index: 475088 entries, 0 to 475087\n",
      "Data columns (total 13 columns):\n",
      " #   Column         Non-Null Count   Dtype  \n",
      "---  ------         --------------   -----  \n",
      " 0   price          475088 non-null  int64  \n",
      " 1   date           475088 non-null  int32  \n",
      " 2   geo_lat        475088 non-null  float64\n",
      " 3   geo_lon        475088 non-null  float64\n",
      " 4   region         475088 non-null  int64  \n",
      " 5   building_type  475088 non-null  int64  \n",
      " 6   level          475088 non-null  int64  \n",
      " 7   levels         475088 non-null  int64  \n",
      " 8   rooms          475088 non-null  int64  \n",
      " 9   area           475088 non-null  float64\n",
      " 10  kitchen_area   475088 non-null  float64\n",
      " 11  object_type    475088 non-null  int64  \n",
      " 12  avg_price      475088 non-null  float64\n",
      "dtypes: float64(5), int32(1), int64(7)\n",
      "memory usage: 48.9 MB\n"
     ]
    }
   ],
   "source": [
    "df['date'] = df['date'].astype('int') # data must be int, float, bool or category to can test it in XGBRegressor\n",
    "\n",
    "target = df['price']\n",
    "inputes = df.drop(columns = ['price'])\n",
    "\n",
    "df.info()"
   ]
  },
  {
   "cell_type": "markdown",
   "id": "0d882029",
   "metadata": {},
   "source": [
    "Split the data into Train, Validate, and Test"
   ]
  },
  {
   "cell_type": "code",
   "execution_count": 41,
   "id": "0f3c1019",
   "metadata": {},
   "outputs": [],
   "source": [
    "train_inputs, test_inputs , train_target , test_target = train_test_split(inputes , target , test_size=0.2 , random_state=10)\n",
    "train_inputs, validate_inputs , train_target , validate_target = train_test_split(train_inputs , train_target , test_size=0.25 , random_state=3)\n"
   ]
  },
  {
   "cell_type": "markdown",
   "id": "22d7cc59",
   "metadata": {},
   "source": [
    "# Models"
   ]
  },
  {
   "cell_type": "markdown",
   "id": "45804c87",
   "metadata": {},
   "source": [
    "Model #1 Linear Regression"
   ]
  },
  {
   "cell_type": "code",
   "execution_count": 42,
   "id": "890b9a0b",
   "metadata": {},
   "outputs": [
    {
     "name": "stdout",
     "output_type": "stream",
     "text": [
      "Linear Regression train R^2: 0.857\n",
      "Linear Regression validate R^2: 0.853\n",
      "Linear Regression test R^2: 0.862\n"
     ]
    }
   ],
   "source": [
    "lr = LinearRegression()\n",
    "\n",
    "lr.fit(train_inputs,train_target)\n",
    "\n",
    "print(f'Linear Regression train R^2: {lr.score(train_inputs, train_target):.3f}')\n",
    "print(f'Linear Regression validate R^2: {lr.score(validate_inputs, validate_target):.3f}')\n",
    "print(f'Linear Regression test R^2: {lr.score(test_inputs, test_target):.3f}')"
   ]
  },
  {
   "cell_type": "markdown",
   "id": "d39bc86a",
   "metadata": {},
   "source": [
    "Model #2 Degree 2 polynomial regression"
   ]
  },
  {
   "cell_type": "code",
   "execution_count": 43,
   "id": "8b7368da",
   "metadata": {},
   "outputs": [
    {
     "name": "stdout",
     "output_type": "stream",
     "text": [
      "Degree 2 polynomial regression train R^2: 0.894\n",
      "Degree 2 polynomial regression validate R^2: 0.891\n",
      "Degree 2 polynomial regression test R^2: 0.898\n"
     ]
    }
   ],
   "source": [
    "poly = PolynomialFeatures(degree=2) \n",
    "\n",
    "X_train_poly = poly.fit_transform(train_inputs)\n",
    "X_val_poly = poly.transform(validate_inputs)\n",
    "X_test_poly = poly.transform(test_inputs)\n",
    "\n",
    "lr.fit(X_train_poly , train_target)\n",
    "\n",
    "print(f'Degree 2 polynomial regression train R^2: {lr.score(X_train_poly, train_target):.3f}')\n",
    "print(f'Degree 2 polynomial regression validate R^2: {lr.score(X_val_poly, validate_target):.3f}')\n",
    "print(f'Degree 2 polynomial regression test R^2: {lr.score(X_test_poly, test_target):.3f}')"
   ]
  },
  {
   "cell_type": "markdown",
   "id": "ee633729",
   "metadata": {},
   "source": [
    "Model #3 XGBRegressor"
   ]
  },
  {
   "cell_type": "code",
   "execution_count": 44,
   "id": "efe29557",
   "metadata": {},
   "outputs": [
    {
     "name": "stdout",
     "output_type": "stream",
     "text": [
      "XGBRegressor train R^2: 0.962\n",
      "XGBRegressor validate R^2: 0.941\n",
      "XGBRegressor test R^2: 0.943\n"
     ]
    }
   ],
   "source": [
    "xgbModel = XGBRegressor()\n",
    "\n",
    "xgbModel.fit(train_inputs,train_target)\n",
    "\n",
    "print(f'XGBRegressor train R^2: {xgbModel.score(train_inputs, train_target):.3f}')\n",
    "print(f'XGBRegressor validate R^2: {xgbModel.score(validate_inputs, validate_target):.3f}')\n",
    "print(f'XGBRegressor test R^2: {xgbModel.score(test_inputs, test_target):.3f}')"
   ]
  }
 ],
 "metadata": {
  "kernelspec": {
   "display_name": "Python 3 (ipykernel)",
   "language": "python",
   "name": "python3"
  },
  "language_info": {
   "codemirror_mode": {
    "name": "ipython",
    "version": 3
   },
   "file_extension": ".py",
   "mimetype": "text/x-python",
   "name": "python",
   "nbconvert_exporter": "python",
   "pygments_lexer": "ipython3",
   "version": "3.9.7"
  }
 },
 "nbformat": 4,
 "nbformat_minor": 5
}
